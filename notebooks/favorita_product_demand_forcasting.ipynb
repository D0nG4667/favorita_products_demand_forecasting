version https://git-lfs.github.com/spec/v1
oid sha256:1e6e6135706e8c66d98d70aa5e58a18066a01ea632e52b3f2a5a1571ba6f44e1
size 26118688
