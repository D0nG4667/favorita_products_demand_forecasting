version https://git-lfs.github.com/spec/v1
oid sha256:10349cb0f5e5097247b434d3849542bb0eb66cb08142c94490feb58f0302cbe5
size 19512805
