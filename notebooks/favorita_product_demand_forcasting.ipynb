version https://git-lfs.github.com/spec/v1
oid sha256:59b55c3fc5d026b4bb712471c2d5eade3e2f4dc972a077a002d03defe6a54b92
size 24622837
