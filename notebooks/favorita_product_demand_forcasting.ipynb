version https://git-lfs.github.com/spec/v1
oid sha256:2c68a40ca4905b6375868b98ca04816f3d596ae2a07b78f898cd47797281ea7c
size 26118699
